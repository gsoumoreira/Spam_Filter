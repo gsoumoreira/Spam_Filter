{
 "cells": [
  {
   "cell_type": "code",
   "execution_count": 63,
   "metadata": {},
   "outputs": [],
   "source": [
    "import json"
   ]
  },
  {
   "cell_type": "code",
   "execution_count": 64,
   "metadata": {},
   "outputs": [],
   "source": [
    "data = []"
   ]
  },
  {
   "cell_type": "code",
   "execution_count": 65,
   "metadata": {},
   "outputs": [],
   "source": [
    "# Open orignal file and select the trace contetns\n",
    "with open('Cyber-Trolls.json', 'r') as rf:\n",
    "    for line in rf:\n",
    "        data.append(line)"
   ]
  },
  {
   "cell_type": "code",
   "execution_count": 70,
   "metadata": {},
   "outputs": [],
   "source": [
    "data2 = []\n",
    "for i in data:\n",
    "    data2.append(json.loads(i))"
   ]
  },
  {
   "cell_type": "code",
   "execution_count": 75,
   "metadata": {},
   "outputs": [
    {
     "data": {
      "text/plain": [
       "{'content': \"Oh  come ON... 1/10?  That is fucking ridiculous... that's what you give a movie like Love Guru or one shot on a fucking celphone.\",\n",
       " 'annotation': {'notes': '', 'label': ['1']},\n",
       " 'extras': None,\n",
       " 'metadata': {'first_done_at': 1527503430000,\n",
       "  'last_updated_at': 1527503430000,\n",
       "  'sec_taken': 0,\n",
       "  'last_updated_by': 'jI67aE5hwwdh6l16bcfFVnpyREd2',\n",
       "  'status': 'done',\n",
       "  'evaluation': 'NONE'}}"
      ]
     },
     "execution_count": 75,
     "metadata": {},
     "output_type": "execute_result"
    }
   ],
   "source": [
    "data2[]"
   ]
  },
  {
   "cell_type": "code",
   "execution_count": null,
   "metadata": {},
   "outputs": [],
   "source": []
  }
 ],
 "metadata": {
  "kernelspec": {
   "display_name": "Python 3",
   "language": "python",
   "name": "python3"
  },
  "language_info": {
   "codemirror_mode": {
    "name": "ipython",
    "version": 3
   },
   "file_extension": ".py",
   "mimetype": "text/x-python",
   "name": "python",
   "nbconvert_exporter": "python",
   "pygments_lexer": "ipython3",
   "version": "3.6.8"
  }
 },
 "nbformat": 4,
 "nbformat_minor": 2
}
